{
 "cells": [
  {
   "cell_type": "code",
   "execution_count": 14,
   "metadata": {},
   "outputs": [
    {
     "name": "stdout",
     "output_type": "stream",
     "text": [
      "deque([1, 3, 4, 5])\n",
      "1\n",
      "<class '__main__.Queue'>\n"
     ]
    }
   ],
   "source": [
    "from collections import deque\n",
    "\n",
    "class Queue():\n",
    "    def __init__(self):\n",
    "        self.queue = deque()\n",
    "    def enque(self, item):\n",
    "        self.queue.append(item)\n",
    "    def enque_multiple(self, items):            # makes it possible to append multiple numbers using a list\n",
    "        self.queue.extend(items)\n",
    "    def dequeue(self):\n",
    "        if len(self.queue) > 0:\n",
    "            return self.queue.popleft()\n",
    "        else: return None\n",
    "    \n",
    "    # def peek(self):    \n",
    "    #     if len(self.queue) > 0:                     \n",
    "    #         return self.peek[len(self.queue)-1]\n",
    "    #     else:\n",
    "    #         return None\n",
    "    def __str__(self):\n",
    "        return str(self.queue)\n",
    "\n",
    "my_queue = Queue()\n",
    "my_queue.enque(1)\n",
    "my_queue.enque(3)\n",
    "my_queue.enque_multiple([4, 5])\n",
    "print(my_queue)\n",
    "print(my_queue.dequeue())\n",
    "print(type(my_queue))       # debug return type"
   ]
  }
 ],
 "metadata": {
  "interpreter": {
   "hash": "ce1afd04917024d35673a93aa615569d55713c6e10a4f6b5e903842d76a20fcf"
  },
  "kernelspec": {
   "display_name": "Python 3.10.3 ('.venv': venv)",
   "language": "python",
   "name": "python3"
  },
  "language_info": {
   "codemirror_mode": {
    "name": "ipython",
    "version": 3
   },
   "file_extension": ".py",
   "mimetype": "text/x-python",
   "name": "python",
   "nbconvert_exporter": "python",
   "pygments_lexer": "ipython3",
   "version": "3.10.3"
  },
  "orig_nbformat": 4
 },
 "nbformat": 4,
 "nbformat_minor": 2
}
