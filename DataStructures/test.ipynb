{
 "cells": [
  {
   "cell_type": "markdown",
   "metadata": {},
   "source": [
    "##Disclaimer: \n",
    "all credit goes to github.com/joeyajames for providing this material.\n",
    "\n",
    "These notes were made to follow along with CodDevX's \"Data Structures And Algorithms in Python\" YouTube video"
   ]
  },
  {
   "cell_type": "markdown",
   "metadata": {},
   "source": [
    "# Python Data Structures"
   ]
  },
  {
   "cell_type": "markdown",
   "metadata": {},
   "source": [
    "## String Manipulation\n",
    "\n",
    "slicing - slice out substrings, sublists, subtuples using indexes\n",
    "\n",
    "[start : end + 1 : step]"
   ]
  },
  {
   "cell_type": "code",
   "execution_count": 5,
   "metadata": {},
   "outputs": [
    {
     "name": "stdout",
     "output_type": "stream",
     "text": [
      "Demo of index slicing:\n",
      "omp\n",
      "opt\n",
      "puter\n",
      "compu\n",
      "r\n",
      "ter\n",
      "comput\n"
     ]
    }
   ],
   "source": [
    "print(\"Demo of index slicing:\")\n",
    "\n",
    "x = 'computer'\n",
    "print(x[1:4])\n",
    "print(x[1:6:2])\n",
    "print(x[3:])\n",
    "print(x[:5])\n",
    "print(x[-1])\n",
    "print(x[-3:])\n",
    "print(x[:-2])"
   ]
  },
  {
   "cell_type": "markdown",
   "metadata": {},
   "source": [
    "Slicing starts from the starting index and ends with the next index past your target. You can also add steps which tells python to skip over x indexes for every index iterated through."
   ]
  },
  {
   "cell_type": "markdown",
   "metadata": {},
   "source": [
    "adding and concatenating - combine 2 sequences of the same type by using +."
   ]
  },
  {
   "cell_type": "code",
   "execution_count": 9,
   "metadata": {},
   "outputs": [
    {
     "name": "stdout",
     "output_type": "stream",
     "text": [
      "horseshoe\n",
      "['pig', 'cow', 'horse']\n",
      "('Kevin', 'Niklas', 'Jenny', 'Craig')\n"
     ]
    }
   ],
   "source": [
    "# string\n",
    "x = 'horse' + 'shoe'\n",
    "print(x)\n",
    "\n",
    "# list\n",
    "y = ['pig', 'cow'] + ['horse']\n",
    "print(y)\n",
    "\n",
    "# tuple\n",
    "z = ('Kevin', 'Niklas', 'Jenny') + ('Craig',)\n",
    "print(z)\n"
   ]
  },
  {
   "cell_type": "markdown",
   "metadata": {},
   "source": [
    "for tuples, you must include the comma after the second tuple or tuple object for the interpreter to recognize that you want to concatenate both into one. failing to do so results in a Type Error."
   ]
  },
  {
   "cell_type": "markdown",
   "metadata": {},
   "source": [
    "### Collections"
   ]
  },
  {
   "cell_type": "markdown",
   "metadata": {},
   "source": [
    "checking membership - test whether an item is or is not in a sequence"
   ]
  },
  {
   "cell_type": "code",
   "execution_count": null,
   "metadata": {},
   "outputs": [],
   "source": [
    "# string\n",
    "x = 'bug'\n",
    "print('u' in x) # True\n",
    "\n",
    "# list\n",
    "y = ['pig', 'cow', 'horse']\n",
    "print('cow' not in y) # False\n",
    "\n",
    "# tuple\n",
    "z = ('Kevin', 'Niklas', 'Jenny', 'Craig')\n",
    "print('Niklas' in z) # True"
   ]
  },
  {
   "cell_type": "markdown",
   "metadata": {},
   "source": [
    "iterating - iterating through the items in a sequence"
   ]
  },
  {
   "cell_type": "code",
   "execution_count": 3,
   "metadata": {},
   "outputs": [
    {
     "name": "stdout",
     "output_type": "stream",
     "text": [
      "7\n",
      "8\n",
      "3\n",
      "0 7\n",
      "1 8\n",
      "2 3\n",
      "0 Rock\n",
      "1 Rap\n",
      "2 Metal\n",
      "3 Pop\n",
      "4 Country\n"
     ]
    }
   ],
   "source": [
    "# item\n",
    "x = [7, 8, 3]\n",
    "for item in x:\n",
    "    print(item)\n",
    "\n",
    "# index and item\n",
    "y = [7, 8, 3]\n",
    "for index, item in enumerate(y):                # calling enumerate returns both the value and its index\n",
    "    print(index, item)\n",
    "\n",
    "z = ['Rock','Rap','Metal', 'Pop', 'Country']    # This also works for strings\n",
    "for index, item in enumerate(z):\n",
    "    print(index, item)"
   ]
  },
  {
   "cell_type": "markdown",
   "metadata": {},
   "source": [
    "minimum - find the minimum item in a sequence lexicographically. Alpha or numeric types, but cannot mix types."
   ]
  },
  {
   "cell_type": "code",
   "execution_count": 12,
   "metadata": {},
   "outputs": [
    {
     "name": "stdout",
     "output_type": "stream",
     "text": [
      "b\n",
      "cow\n",
      "Craig\n",
      "1\n"
     ]
    }
   ],
   "source": [
    "# string\n",
    "x = 'bug'\n",
    "print(min(x))\n",
    "\n",
    "# list\n",
    "y = ['pig', 'cow', 'horse']\n",
    "print(min(y))\n",
    "\n",
    "# tuple\n",
    "z = ('Kevin', 'Niklas', 'Jenny', 'Craig')\n",
    "print(min(z))\n",
    "\n",
    "# numeric\n",
    "yy = [3, 4, 1, 7, 8]\n",
    "print(min(yy))"
   ]
  },
  {
   "cell_type": "markdown",
   "metadata": {},
   "source": [
    "maximum - find the maximum item in a sequence lexicographically. Alpha or numeric types, but cannot mix types."
   ]
  },
  {
   "cell_type": "code",
   "execution_count": 13,
   "metadata": {},
   "outputs": [
    {
     "name": "stdout",
     "output_type": "stream",
     "text": [
      "u\n",
      "pig\n",
      "Niklas\n",
      "8\n"
     ]
    }
   ],
   "source": [
    "# string\n",
    "x = 'bug'\n",
    "print(max(x))\n",
    "\n",
    "# list\n",
    "y = ['pig', 'cow', 'horse']\n",
    "print(max(y))\n",
    "\n",
    "# tuple\n",
    "z = ('Kevin', 'Niklas', 'Jenny', 'Craig')\n",
    "print(max(z))\n",
    "\n",
    "# numeric\n",
    "yy = [3, 4, 1, 7, 8]\n",
    "print(max(yy))"
   ]
  },
  {
   "cell_type": "markdown",
   "metadata": {},
   "source": [
    "sum - find the sum of items in a sequence. Entire sequence must by numeric."
   ]
  },
  {
   "cell_type": "code",
   "execution_count": 14,
   "metadata": {},
   "outputs": [
    {
     "name": "stdout",
     "output_type": "stream",
     "text": [
      "27\n",
      "20\n",
      "80\n"
     ]
    }
   ],
   "source": [
    "# string -> error\n",
    "# x = [5, 7, 'bug']\n",
    "# print(sum(x)) # generates an error\n",
    "\n",
    "#list\n",
    "y = [2, 5, 8, 12]\n",
    "print(sum(y))\n",
    "print(sum(y[-2:])) # getting the sum of a sliced list - sum of part of the list\n",
    "\n",
    "# tuple\n",
    "z = (50, 4, 7, 19)\n",
    "print(sum(z))\n"
   ]
  },
  {
   "cell_type": "markdown",
   "metadata": {},
   "source": [
    "### Sorting methods"
   ]
  },
  {
   "cell_type": "markdown",
   "metadata": {},
   "source": [
    "basic sorting - returns a new list of items in sorted order.\n",
    "Does not change the original list."
   ]
  },
  {
   "cell_type": "code",
   "execution_count": 15,
   "metadata": {},
   "outputs": [
    {
     "name": "stdout",
     "output_type": "stream",
     "text": [
      "['b', 'g', 'u']\n",
      "['cow', 'horse', 'pig']\n",
      "['Craig', 'Jenny', 'Kevin', 'Niklas']\n",
      "[1, 3, 4, 7, 8]\n"
     ]
    }
   ],
   "source": [
    "# string\n",
    "x = 'bug'\n",
    "print(sorted(x))\n",
    "\n",
    "# list\n",
    "y = ['pig', 'cow', 'horse']\n",
    "print(sorted(y))\n",
    "\n",
    "# tuple\n",
    "z = ('Kevin', 'Niklas', 'Jenny', 'Craig')\n",
    "print(sorted(z))\n",
    "\n",
    "# numeric\n",
    "yy = [3, 4, 1, 7, 8]\n",
    "print(sorted(yy))"
   ]
  },
  {
   "cell_type": "markdown",
   "metadata": {},
   "source": [
    "sorting by second letter.\n",
    "Add a key parameter and a lambda function to return the second character.\n",
    "(the word 'key' here is a defined parameter name, k is an arbitrary variable name)"
   ]
  },
  {
   "cell_type": "code",
   "execution_count": 16,
   "metadata": {},
   "outputs": [
    {
     "name": "stdout",
     "output_type": "stream",
     "text": [
      "['Kevin', 'Jenny', 'Niklas', 'Craig']\n"
     ]
    }
   ],
   "source": [
    "z = ('Kevin', 'Niklas', 'Jenny', 'Craig')\n",
    "print(sorted(z, key=lambda k: k[1]))"
   ]
  },
  {
   "cell_type": "markdown",
   "metadata": {},
   "source": [
    "count of item"
   ]
  },
  {
   "cell_type": "code",
   "execution_count": 18,
   "metadata": {},
   "outputs": [
    {
     "name": "stdout",
     "output_type": "stream",
     "text": [
      "0\n",
      "2\n",
      "1\n",
      "1\n"
     ]
    }
   ],
   "source": [
    "# string\n",
    "x = 'bug'\n",
    "print(x.count('p'))\n",
    "\n",
    "# list\n",
    "y = ['pig', 'cow', 'horse', 'cow']\n",
    "print(y.count('cow'))\n",
    "\n",
    "# tuple\n",
    "z = ('Kevin', 'Niklas', 'Jenny', 'Craig')\n",
    "print(z.count('Kevin'))\n",
    "\n",
    "# numeric\n",
    "yy = [3, 4, 1, 7, 8]\n",
    "print(yy.count(7))"
   ]
  },
  {
   "cell_type": "markdown",
   "metadata": {},
   "source": [
    "index of item - returns the first occurance of an item"
   ]
  },
  {
   "cell_type": "code",
   "execution_count": 22,
   "metadata": {},
   "outputs": [
    {
     "name": "stdout",
     "output_type": "stream",
     "text": [
      "2\n",
      "2\n",
      "1\n",
      "0\n",
      "3\n"
     ]
    }
   ],
   "source": [
    "# string\n",
    "x = 'hippo'\n",
    "print(x.index('p'))\n",
    "print(x.index('p'))\n",
    "\n",
    "# list\n",
    "y = ['pig', 'cow', 'horse', 'cow']\n",
    "print(y.index('cow'))\n",
    "\n",
    "# tuple\n",
    "z = ('Kevin', 'Niklas', 'Jenny', 'Craig')\n",
    "print(z.index('Kevin'))\n",
    "\n",
    "# numeric\n",
    "yy = [3, 4, 1, 7, 8]\n",
    "print(yy.index(7))"
   ]
  },
  {
   "cell_type": "markdown",
   "metadata": {},
   "source": [
    "## Collections in Detail"
   ]
  },
  {
   "cell_type": "markdown",
   "metadata": {},
   "source": [
    "### Lists"
   ]
  },
  {
   "cell_type": "markdown",
   "metadata": {},
   "source": [
    "- General purpose\n",
    "- Most widely used data structure\n",
    "- Grow and shrink size as needed\n",
    "- Sequence type\n",
    "- Sortable (very useful for sorting)\n",
    "\n",
    "constructors - creating a new list"
   ]
  },
  {
   "cell_type": "code",
   "execution_count": 5,
   "metadata": {},
   "outputs": [
    {
     "name": "stdout",
     "output_type": "stream",
     "text": [
      "[]\n",
      "['a', 25, 'dog', 8.43]\n",
      "[10, 20]\n",
      "[0, 1, 2, 3, 4, 5, 6, 7]\n",
      "[25, 36, 49, 64, 81]\n"
     ]
    }
   ],
   "source": [
    "x = list()\n",
    "y = ['a', 25, 'dog', 8.43]\n",
    "tuple1 = (10, 20)\n",
    "z = list(tuple1) # this creates a copy of tuple1 in list form\n",
    "print(x)\n",
    "print(y)\n",
    "print(z)\n",
    "\n",
    "# list comprehension\n",
    "a = [m for m in range(8)]\n",
    "print(a)\n",
    "b = [i**2 for i in range(10) if i>4]\n",
    "print(b)"
   ]
  },
  {
   "cell_type": "markdown",
   "metadata": {},
   "source": [
    "delete - delete a list or an item in a list"
   ]
  },
  {
   "cell_type": "code",
   "execution_count": 6,
   "metadata": {},
   "outputs": [
    {
     "name": "stdout",
     "output_type": "stream",
     "text": [
      "[5, 8, 6]\n"
     ]
    }
   ],
   "source": [
    "x = [5, 3, 8, 6]\n",
    "del(x[1])\n",
    "print(x)\n",
    "del(x)"
   ]
  },
  {
   "cell_type": "markdown",
   "metadata": {},
   "source": [
    "append - append an item to a list"
   ]
  },
  {
   "cell_type": "code",
   "execution_count": 7,
   "metadata": {},
   "outputs": [
    {
     "name": "stdout",
     "output_type": "stream",
     "text": [
      "[5, 3, 8, 6, 7]\n"
     ]
    }
   ],
   "source": [
    "x = [5, 3, 8, 6]\n",
    "x.append(7)\n",
    "print(x)"
   ]
  },
  {
   "cell_type": "markdown",
   "metadata": {},
   "source": [
    "extend - append a sequence to a list. useful for adding another list to a list without making it 2D. <br>Similar to concatenation"
   ]
  },
  {
   "cell_type": "code",
   "execution_count": 20,
   "metadata": {},
   "outputs": [
    {
     "name": "stdout",
     "output_type": "stream",
     "text": [
      "Extend vs append comparison:\n",
      "x extend y: [5, 3, 8, 6, 12, 13]\n",
      "x append y: [5, 3, 8, 6, [12, 13]]\n"
     ]
    }
   ],
   "source": [
    "x = [5, 3, 8, 6]\n",
    "y = [12, 13]\n",
    "\n",
    "print(\"Extend vs append comparison:\")\n",
    "x.extend(y)\n",
    "print(f\"x extend y: {x}\")\n",
    "\n",
    "del(x[-2:]) # undoes the extend function that was passed\n",
    "\n",
    "x.append(y)\n",
    "print(f\"x append y: {x}\")"
   ]
  },
  {
   "cell_type": "markdown",
   "metadata": {},
   "source": [
    "insert - insert an item at a given index"
   ]
  },
  {
   "cell_type": "code",
   "execution_count": 21,
   "metadata": {},
   "outputs": [
    {
     "name": "stdout",
     "output_type": "stream",
     "text": [
      "[5, 7, 3, 8, 6]\n",
      "[5, ['a', 'm'], 7, 3, 8, 6]\n"
     ]
    }
   ],
   "source": [
    "x = [5, 3, 8, 6]\n",
    "x.insert(1, 7)\n",
    "print(x)\n",
    "x.insert(1, ['a', 'm'])     # inserting ['a', 'm'] at index 1\n",
    "print(x)"
   ]
  },
  {
   "cell_type": "markdown",
   "metadata": {},
   "source": [
    "pop - pops last item off the list and returns item"
   ]
  },
  {
   "cell_type": "code",
   "execution_count": 23,
   "metadata": {},
   "outputs": [
    {
     "name": "stdout",
     "output_type": "stream",
     "text": [
      "[5, 3, 8]\n",
      "8\n"
     ]
    }
   ],
   "source": [
    "x = [5, 3, 8, 6]\n",
    "x.pop()\n",
    "print(x)        # returns list with popped 6\n",
    "print(x.pop())  # returns the popped item, which is 8"
   ]
  },
  {
   "cell_type": "markdown",
   "metadata": {},
   "source": [
    "remove - remove the first instance of an item"
   ]
  },
  {
   "cell_type": "code",
   "execution_count": 24,
   "metadata": {},
   "outputs": [
    {
     "name": "stdout",
     "output_type": "stream",
     "text": [
      "[5, 8, 6, 3]\n"
     ]
    }
   ],
   "source": [
    "x = [5, 3, 8, 6, 3]\n",
    "x.remove(3)\n",
    "print(x)"
   ]
  },
  {
   "cell_type": "markdown",
   "metadata": {},
   "source": [
    "reverse - reverse the order of the list. it is an in-place sort and changes the original list."
   ]
  },
  {
   "cell_type": "code",
   "execution_count": 25,
   "metadata": {},
   "outputs": [
    {
     "name": "stdout",
     "output_type": "stream",
     "text": [
      "[6, 8, 3, 5]\n"
     ]
    }
   ],
   "source": [
    "x = [5, 3, 8, 6]\n",
    "x.reverse()\n",
    "print(x)"
   ]
  },
  {
   "cell_type": "markdown",
   "metadata": {},
   "source": [
    "sort - sort the list in place\n",
    "\n",
    "sorted(x) returns new sorted list without changing the original list x. <br>\n",
    "x.sort() puts the items of x in sorted order(sorts in place)"
   ]
  },
  {
   "cell_type": "code",
   "execution_count": 29,
   "metadata": {},
   "outputs": [
    {
     "name": "stdout",
     "output_type": "stream",
     "text": [
      "[3, 5, 6, 8]\n"
     ]
    },
    {
     "data": {
      "text/plain": [
       "[3, 5, 6, 8]"
      ]
     },
     "execution_count": 29,
     "metadata": {},
     "output_type": "execute_result"
    }
   ],
   "source": [
    "x = [5, 3, 8, 6]\n",
    "x.sort()\n",
    "print(x)\n",
    "\n",
    "# sorted does the same thing\n",
    "x = [5, 3, 8, 6] \n",
    "sorted(x)"
   ]
  },
  {
   "cell_type": "markdown",
   "metadata": {},
   "source": [
    "### Tuples"
   ]
  },
  {
   "cell_type": "markdown",
   "metadata": {},
   "source": [
    "- immutable (can't add/change)\n",
    "- Useful for fixed data\n",
    "- Faster than lists\n",
    "- Sequence type\n",
    "\n",
    "constructors - creating new tuples"
   ]
  },
  {
   "cell_type": "code",
   "execution_count": 32,
   "metadata": {},
   "outputs": [
    {
     "name": "stdout",
     "output_type": "stream",
     "text": [
      "(2,) <class 'tuple'>\n",
      "(2, 4, 6) <class 'tuple'>\n"
     ]
    }
   ],
   "source": [
    "# different constructors for tuples\n",
    "x = ()\n",
    "x = (1, 2, 3)\n",
    "x = 1, 2, 3\n",
    "x = 2,\n",
    "print(x, type(x))\n",
    "\n",
    "# converting a list into a tuple\n",
    "list1 = [2, 4, 6]\n",
    "x = tuple(list1)\n",
    "print(x, type(x))"
   ]
  },
  {
   "cell_type": "markdown",
   "metadata": {},
   "source": [
    "tuples are immutable, but member objects may be mutable"
   ]
  },
  {
   "cell_type": "code",
   "execution_count": 33,
   "metadata": {},
   "outputs": [
    {
     "name": "stdout",
     "output_type": "stream",
     "text": [
      "(1, 2, 3)\n",
      "([1], 3)\n",
      "([1], 3, 4)\n"
     ]
    }
   ],
   "source": [
    "x = (1, 2, 3)\n",
    "# del(x[1])         # fails\n",
    "# x[1] = 8          # fails\n",
    "print(x)\n",
    "\n",
    "y = ([1, 2], 3)     # a tuple where the first item is a list\n",
    "del(y[0][1])        # you can delete the 2\n",
    "print(y)            # the list within the tuple is mutable\n",
    "\n",
    "y += (4,)           # concatenating two tuples \n",
    "print(y)"
   ]
  },
  {
   "cell_type": "markdown",
   "metadata": {},
   "source": [
    "### Sets"
   ]
  },
  {
   "cell_type": "markdown",
   "metadata": {},
   "source": [
    "- Store non-duplicate items\n",
    "- Very fast access vs Lists\n",
    "- Math Set operations (union, intersect)\n",
    "- Sets are Unordered"
   ]
  },
  {
   "cell_type": "code",
   "execution_count": 34,
   "metadata": {},
   "outputs": [
    {
     "name": "stdout",
     "output_type": "stream",
     "text": [
      "{3, 5}\n",
      "set()\n",
      "{2, 3, 4}\n"
     ]
    }
   ],
   "source": [
    "# Set Constructors\n",
    "\n",
    "x = {3, 5, 3, 5}\n",
    "print(x)\n",
    "\n",
    "y = set()\n",
    "print(y)\n",
    "\n",
    "list1 = [2, 3, 4]\n",
    "z = set(list1)\n",
    "print(z)"
   ]
  },
  {
   "cell_type": "markdown",
   "metadata": {},
   "source": [
    "set operations"
   ]
  },
  {
   "cell_type": "code",
   "execution_count": 36,
   "metadata": {},
   "outputs": [
    {
     "name": "stdout",
     "output_type": "stream",
     "text": [
      "{8, 3, 5}\n",
      "{8, 3, 5, 7}\n",
      "{8, 5, 7}\n",
      "3\n",
      "True\n",
      "8 {5, 7}\n",
      "set()\n"
     ]
    }
   ],
   "source": [
    "x = {3, 8, 5}\n",
    "\n",
    "\n",
    "print(x)\n",
    "x.add(7)                # adding an item to a set\n",
    "print(x)\n",
    "\n",
    "x.remove(3)             # removing an item from a set\n",
    "print(x)\n",
    "\n",
    "print(len(x))           # get length of set x\n",
    "\n",
    "print(5 in x)           # check membership in x\n",
    "\n",
    "print(x.pop(), x)       # pop random item from set x\n",
    "\n",
    "x.clear()               # delete all items from set x\n",
    "print(x)"
   ]
  },
  {
   "cell_type": "markdown",
   "metadata": {},
   "source": [
    "<b> Mathematical set operations </b>                    <br>\n",
    "intersection (AND): set1 & set2                         <br>\n",
    "union (OR): set1 | set1                                 <br>\n",
    "symmetric difference (XOR): set1 ^ set2                 <br>\n",
    "difference (in set1 but not in set2): set1 - set2       <br>\n",
    "subset (set2 contains set1): set1 <= set2               <br>\n",
    "superset (set1 contains set2): set1 >= set2\n"
   ]
  },
  {
   "cell_type": "code",
   "execution_count": 37,
   "metadata": {},
   "outputs": [
    {
     "name": "stdout",
     "output_type": "stream",
     "text": [
      "{3}\n",
      "{1, 2, 3, 4, 5}\n",
      "{1, 2, 4, 5}\n",
      "{1, 2}\n",
      "False\n",
      "False\n"
     ]
    }
   ],
   "source": [
    "s1 = {1, 2, 3}\n",
    "s2 = {3, 4, 5}\n",
    "print(s1 & s2)          # AND\n",
    "print(s1 | s2)          # UNION/OR\n",
    "print(s1 ^ s2)          # XOR\n",
    "print(s1 - s2)          # \n",
    "print(s1 <= s2)         #\n",
    "print(s1 >= s2)         #"
   ]
  },
  {
   "cell_type": "markdown",
   "metadata": {},
   "source": [
    "### Dictionaries"
   ]
  },
  {
   "cell_type": "markdown",
   "metadata": {},
   "source": [
    "- Key/Value Pairs\n",
    "- Associative array, like Java HashMap\n",
    "- Dicts are Unordered"
   ]
  },
  {
   "cell_type": "code",
   "execution_count": 4,
   "metadata": {},
   "outputs": [
    {
     "name": "stdout",
     "output_type": "stream",
     "text": [
      "\n",
      "dictionary constructors:\n",
      "\n",
      "{'pork': 25.3, 'beef': 33.8, 'chicken': 22.7}\n",
      "{'pork': 25.3, 'beef': 33.8, 'chicken': 22.7}\n",
      "{'pork': 25.3, 'beef': 33.8, 'chicken': 22.7}\n",
      "\n",
      "dictionary operations:\n",
      "\n",
      "{'pork': 25.3, 'beef': 33.8, 'chicken': 22.7, 'shrimp': 38.2, 'lobster': 100.8}\n",
      "{'pork': 25.3, 'beef': 33.8, 'chicken': 22.7, 'lobster': 100.8}\n",
      "4\n",
      "{}\n"
     ]
    }
   ],
   "source": [
    "# constructors of dictionaries\n",
    "print(\"\\ndictionary constructors:\\n\")\n",
    "\n",
    "x = {'pork': 25.3, 'beef': 33.8, 'chicken': 22.7}\n",
    "print(x)\n",
    "x = dict([('pork', 25.3), ('beef', 33.8), ('chicken', 22.7)])\n",
    "print(x)\n",
    "x = dict(pork=25.3, beef=33.8, chicken=22.7)\n",
    "print(x)\n",
    "\n",
    "\n",
    "print(\"\\ndictionary operations:\\n\")\n",
    "\n",
    "\n",
    "x['shrimp'] = 38.2          # adds or updates the dictionary of x\n",
    "x['lobster'] = 100.8\n",
    "print(x)\n",
    "\n",
    "del(x['shrimp'])            # deletes an item\n",
    "print(x)\n",
    "\n",
    "print(len(x))               # get length of dict x\n",
    "\n",
    "x.clear()                   # delete all items from dict x\n",
    "print(x)\n",
    "\n",
    "del(x)                      # delete dict x - this frees up the memory allocated to this dict"
   ]
  },
  {
   "cell_type": "code",
   "execution_count": 6,
   "metadata": {},
   "outputs": [
    {
     "name": "stdout",
     "output_type": "stream",
     "text": [
      "\n",
      "accessing keys and values in a dict:\n",
      "Not compatible in Python 2\n",
      "\n",
      "dict_keys(['pork', 'beef', 'chicken'])\n",
      "dict_values([25.3, 33.8, 22.7])\n",
      "dict_items([('pork', 25.3), ('beef', 33.8), ('chicken', 22.7)])\n",
      "True\n",
      "False\n"
     ]
    }
   ],
   "source": [
    "print(\"\\naccessing keys and values in a dict:\\nNot compatible in Python 2\\n\")\n",
    "\n",
    "x = dict(pork=25.3, beef=33.8, chicken=22.7)\n",
    "\n",
    "print(x.keys())\n",
    "print(x.values())\n",
    "print(x.items())            # key-value pairs\n",
    "\n",
    "print('beef' in x)          # check membership in y_keys (only looks in keys, not values)\n",
    "\n",
    "print('clams' in x.values())# check membership in y_values"
   ]
  },
  {
   "cell_type": "markdown",
   "metadata": {},
   "source": [
    "iterating a dictionary"
   ]
  },
  {
   "cell_type": "code",
   "execution_count": 8,
   "metadata": {},
   "outputs": [
    {
     "name": "stdout",
     "output_type": "stream",
     "text": [
      "pork 25.3\n",
      "beef 33.8\n",
      "chicken 22.7\n",
      "pork 25.3\n",
      "beef 33.8\n",
      "chicken 22.7\n"
     ]
    }
   ],
   "source": [
    "y = dict(pork=25.3, beef=33.8, chicken=22.7)\n",
    "\n",
    "for key in y:\n",
    "    print(key, y[key])\n",
    "\n",
    "for k, v in y.items():   # using this method y.items() returns a tuple of the key and value and assigns them to their repected variable\n",
    "    print(k, v)"
   ]
  },
  {
   "cell_type": "markdown",
   "metadata": {},
   "source": [
    "## List Comprehensions"
   ]
  },
  {
   "cell_type": "markdown",
   "metadata": {},
   "source": [
    "List comprehensions can be done using a for loop inside of a list constructor. <br><br>\n",
    "\n",
    "basic format: new_list = [transform sequence [filter]]"
   ]
  },
  {
   "cell_type": "code",
   "execution_count": 26,
   "metadata": {},
   "outputs": [
    {
     "name": "stdout",
     "output_type": "stream",
     "text": [
      "under_10: [0, 1, 2, 3, 4, 5, 6, 7, 8, 9]\n",
      "squares: [0, 1, 4, 9, 16, 25, 36, 49, 64, 81]\n",
      "odds: [1, 3, 5, 7, 9]\n",
      "ten_x: [0, 10, 20, 30, 40, 50, 60, 70, 80, 90]\n",
      "nums: 2073\n",
      "index = 2\n",
      "['D', 'F', 'B', 'E', 'A', 'C'] ['D', 'F', 'B', 'E', 'A']\n",
      "new_list: [50, 30, 10, 18, 6, 70]\n",
      "[1, 2, 3, 4]\n"
     ]
    }
   ],
   "source": [
    "import random\n",
    "\n",
    "# get values within a range\n",
    "\n",
    "under_10 = [x for x in range(10)]\n",
    "print(f\"under_10: {str(under_10)}\")         \n",
    "\n",
    "# get squared values\n",
    "\n",
    "squares = [x ** 2 for x in under_10]\n",
    "print(f\"squares: {str(squares)}\")\n",
    "\n",
    "# get odd numbers using mod\n",
    "\n",
    "odds = [x for x in range(10) if x % 2 == 1]\n",
    "print(f\"odds: {str(odds)}\")\n",
    "\n",
    "# get multiples of 10\n",
    "\n",
    "ten_x = [x * 10 for x in range(10)]\n",
    "print(f\"ten_x: {str(ten_x)}\")\n",
    "\n",
    "#  get all numbers from a string\n",
    "\n",
    "s = \"I love 2 go t0 the store 7 times a w3ek.\"\n",
    "nums = [x for x in s if x.isnumeric()]\n",
    "print(f\"nums: {''.join(nums)}\")\n",
    "\n",
    "# get index of a list item\n",
    "    # recall that sets and dicts are hashed and easier to find a given index\n",
    "    # list comprehensions are great for finding certain indexes of lists\n",
    "    \n",
    "names = ['Cosmo', 'Pedro', 'Anu', 'Ray']\n",
    "idx = [k for k, v in enumerate(names) if v == 'Anu']    # given the for loop k = 2\n",
    "print(f\"index = {str(idx[0])}\")\n",
    "\n",
    "# delete an item from a list\n",
    "\n",
    "letters = [x for x in 'ABCDEF']\n",
    "random.shuffle(letters)\n",
    "letrs = [a for a in letters if a != 'C']\n",
    "print(letters, letrs)\n",
    "\n",
    "# if-else condition in a comprehension\n",
    "    # this must come before iteration\n",
    "    \n",
    "nums = [5, 3, 10, 18, 6, 7]\n",
    "new_list = [x if x%2 == 0 else 10*x for x in nums]\n",
    "print(f\"new_list: {str(new_list)}\")\n",
    "\n",
    "# nested loop iteration for 2D list\n",
    "    # b is the subsets, x is the values\n",
    "    \n",
    "a = [[1, 2],[3, 4]]\n",
    "new_list = [x for b in a for x in b]\n",
    "print(new_list)\n"
   ]
  },
  {
   "cell_type": "markdown",
   "metadata": {},
   "source": [
    "## Non-Basic Data Structures"
   ]
  },
  {
   "cell_type": "markdown",
   "metadata": {},
   "source": [
    "### Stacks"
   ]
  },
  {
   "cell_type": "markdown",
   "metadata": {},
   "source": [
    "Operations of stacks include:\n",
    "- Push - push an item onto a stack\n",
    "- Pop - pop an item off the stack\n",
    "\n",
    "LIFO: Last-In First-Out\n",
    "All push and pop operation are to/from the top of the stack.\n",
    "\n",
    "<br>\n",
    "To get to an item at the bottom of the stack, we first need to remove all other items to get to the target."
   ]
  },
  {
   "cell_type": "code",
   "execution_count": null,
   "metadata": {},
   "outputs": [],
   "source": [
    "\"\"\"\n",
    "      Push                            Pop\n",
    " _______________                _______________\n",
    "|_______________|              |_______________|\n",
    "    V       V                      ^       ^    \n",
    " ___V_______V___                ___^_______^___ \n",
    "|_______________|              |_______________|\n",
    "|_______________|              |_______________|\n",
    "|_______________|              |_______________|\n",
    "\n",
    "\"\"\""
   ]
  },
  {
   "cell_type": "markdown",
   "metadata": {},
   "source": [
    "Other stack operations:\n",
    "- Peek - get an item on top of the stack, without removing it completely\n",
    "- Clear - clear all stack items and free memory\n",
    "<br>\n",
    "\n",
    "One prominent use case of stacks is the command stack:\n",
    "- Undo - track which commands have been executed. Pop last command off command stack to undo it"
   ]
  },
  {
   "cell_type": "markdown",
   "metadata": {},
   "source": [
    "Stack using list with a wrapper class\n",
    "\n",
    "This can be done by creating a Stack class and a set of stack methods. <br>\n",
    "The data structure remains a list.\n",
    "\n",
    "<br>\n",
    "The purpose of created a wrapper class like this is to be able to rename the functions and to add new feature later on."
   ]
  },
  {
   "cell_type": "code",
   "execution_count": 6,
   "metadata": {},
   "outputs": [
    {
     "name": "stdout",
     "output_type": "stream",
     "text": [
      "[1, 3]\n",
      "3\n",
      "1\n",
      "1\n",
      "None\n",
      "['Hello', 'Python']\n",
      "Python\n",
      "3\n"
     ]
    }
   ],
   "source": [
    "class Stack():\n",
    "    def __init__(self):\n",
    "        self.stack = list()                         # This initializes the class by creating an empty list\n",
    "    def push(self, item):\n",
    "        self.stack.append(item)                     # This adds an item to the stack\n",
    "    def pop(self):\n",
    "        if len(self.stack) > 0:                     # This checks if there are items in the list\n",
    "            return self.stack.pop()                 # if so, this return statement pops an item from the list\n",
    "        else: return None\n",
    "    def peek(self):\n",
    "        if len(self.stack) > 0:                     # This checks if there are items in the list\n",
    "            return self.stack[len(self.stack)-1]    # if so this returns the item at the top of the list\n",
    "        else:\n",
    "            return None\n",
    "    def __str__(self):                              # this magic method sets the return type to string\n",
    "        return str(self.stack)\n",
    "\n",
    "\n",
    "# Test code:\n",
    "\n",
    "my_stack = Stack()\n",
    "my_stack.push(1)\n",
    "my_stack.push(3)\n",
    "print(my_stack)\n",
    "print(my_stack.pop())\n",
    "print(my_stack.peek())\n",
    "print(my_stack.pop())\n",
    "print(my_stack.pop())\n",
    "\n",
    "another_stack = Stack()\n",
    "another_stack.push(\"Hello\")\n",
    "another_stack.push(\"Python\")\n",
    "print(another_stack)\n",
    "print(another_stack.peek())\n",
    "\n",
    "yet_another_stack = Stack()\n",
    "yet_another_stack.push(14)\n",
    "yet_another_stack.push(3)\n",
    "yet_another_stack.push(5)\n",
    "yet_another_stack.pop()\n",
    "print(yet_another_stack.peek())\n"
   ]
  },
  {
   "cell_type": "markdown",
   "metadata": {},
   "source": [
    "### Queues"
   ]
  },
  {
   "cell_type": "markdown",
   "metadata": {},
   "source": [
    "Operations of queues include:\n",
    "- Enqueue - add an item to the end of the line\n",
    "- Dequeue - drop an item from the front of the line\n",
    "\n",
    "FIFO - First-In-First-Out\n",
    "The first item that comes in is used first. <br>"
   ]
  },
  {
   "cell_type": "markdown",
   "metadata": {},
   "source": [
    "Using queues in Python\n",
    "\n",
    "This is done by using the built-in library 'Deque' (sometimes pronounced 'deck'). <br>\n",
    "Queue is a FIFO data structure -- first-in, first-out. <br>\n",
    "Deque is a double-ended queue, meaning that items can be added or removed from both sides of the queue, but it can be used as a queue. <br>\n",
    "To do this, use append() to enqueue an item, and popleft() to dequeue an item."
   ]
  },
  {
   "cell_type": "code",
   "execution_count": 8,
   "metadata": {},
   "outputs": [
    {
     "name": "stdout",
     "output_type": "stream",
     "text": [
      "deque([5, 10])\n",
      "5\n",
      "deque([10])\n"
     ]
    }
   ],
   "source": [
    "from collections import deque\n",
    "\n",
    "my_queue = deque()              # This instantiates deque into a variable\n",
    "my_queue.append(5)              # This adds values to the queue\n",
    "my_queue.append(10)\n",
    "print(my_queue)\n",
    "print(my_queue.popleft())       # popleft() pops any value that came in first represented on the left side of the collection\n",
    "print(my_queue)"
   ]
  },
  {
   "cell_type": "markdown",
   "metadata": {},
   "source": [
    "Building a que from a wrapper Class:"
   ]
  },
  {
   "cell_type": "code",
   "execution_count": 21,
   "metadata": {},
   "outputs": [
    {
     "name": "stdout",
     "output_type": "stream",
     "text": [
      "deque([1, 3, 4, 5, 6, 7])\n",
      "Peek the frontal value: 1\n",
      "Size of queue: 6\n",
      "Dequeued item: 1\n",
      "Size of queue: 5\n",
      "Peek the frontal value: 3\n",
      "Return type: <class '__main__.Queue'>\n"
     ]
    }
   ],
   "source": [
    "# The que starts on the left and is appended on the right\n",
    "# start <-------<< end\n",
    "\n",
    "from collections import deque\n",
    "\n",
    "class Queue():\n",
    "    def __init__(self):\n",
    "        self.queue = deque()\n",
    "    def enqueue(self, item):                        # enqueue function\n",
    "        self.queue.append(item)\n",
    "    def enqueue_multiple(self, items):              # makes it possible to append multiple numbers using a list\n",
    "        self.queue.extend(items)\n",
    "    def dequeue(self):                              # dequeue function\n",
    "        if len(self.queue) > 0:\n",
    "            return self.queue.popleft()\n",
    "        else: return None\n",
    "    def get_size(self):                             # gets the size or length of the queue\n",
    "        return len(self.queue)\n",
    "    def peek(self):                                 # reveals the value at the front of the queue\n",
    "        return self.queue[0]\n",
    "    def __str__(self):\n",
    "        return str(self.queue)\n",
    "\n",
    "\n",
    "# Test code:\n",
    "\n",
    "my_queue = Queue()\n",
    "my_queue.enqueue(1)\n",
    "my_queue.enqueue(3)\n",
    "my_queue.enqueue_multiple([4, 5])\n",
    "my_queue.enqueue_multiple((6, 7))\n",
    "print(my_queue)\n",
    "print(f\"Peek the frontal value: {my_queue.peek()}\")\n",
    "print(f\"Size of queue: {my_queue.get_size()}\")\n",
    "print(f\"Dequeued item: {my_queue.dequeue()}\")\n",
    "print(f\"Size of queue: {my_queue.get_size()}\")\n",
    "print(f\"Peek the frontal value: {my_queue.peek()}\")\n",
    "print(f\"Return type: {type(my_queue)}\")       # debug return type"
   ]
  },
  {
   "cell_type": "markdown",
   "metadata": {},
   "source": [
    "### MaxHeap"
   ]
  },
  {
   "cell_type": "markdown",
   "metadata": {},
   "source": [
    "The underlying data structure of a MaxHeap is a list. <br>\n",
    "\n",
    "An example of a MaxHeap is a Binary tree. <br>\n",
    "\n",
    "In a MaxHeap: every node <= its parent <br>\n",
    "\n",
    "Because of this core principle, we can:\n",
    "- remove the max number anytime we want\n",
    "- we know that the top number will always be the max value\n",
    "\n",
    "Thus, popping the top number removes the maximum value from the MaxHeap.\n",
    "\n",
    "Properties of MaxHeaps:\n",
    "- Insert in O(log n)\n",
    "- Get max in O(1)\n",
    "- Remove max in O(log n)\n",
    "\n",
    "Because of these properties behaving in O(1) and O(log n), MaxHeaps are wicked fast.\n",
    "\n",
    "The items in a MaxHeap are indexed. This is typically in a lateral pattern.\n",
    "\n",
    "Because of this finding the relationships of the notes are formulated to something like this example:\n",
    "\n",
    "index = 4\n",
    "parent(index) = index / 2       = 2         # finding the parent\n",
    "left(index)   = index * 2       = 8         # finding the left child's index\n",
    "right(index)  = index * 2 + 1   = 9         # fing the right child' index\n",
    "\n",
    "MaxHeap Operations:\n",
    "- Push (insert)\n",
    "    1. Add value to the end of the array\n",
    "    2. Float/bubble it up to its proper position\n",
    "- Peek (get max)\n",
    "    1. Return the value at heap[1] or list[0]\n",
    "- Pop (remove max)\n",
    "    1. Move the max value to the end of the array\n",
    "    2. Delete it\n",
    "    3. Bubble down the item at index 1 to its proper position\n",
    "    4. Return max\n",
    "\n",
    "Code: Python MaxHeap\n",
    "\n",
    "A MaxHeap always bebbles the highest value to the top, so it can be removed instantly.\n",
    "\n",
    "Public functions: push, peek, pop\n",
    "\n",
    "Private functions: __swap, __floatUp, __bubbleDown, __str"
   ]
  },
  {
   "cell_type": "code",
   "execution_count": 32,
   "metadata": {},
   "outputs": [
    {
     "name": "stdout",
     "output_type": "stream",
     "text": [
      "[0, 95, 10, 2, 3]\n",
      "95\n",
      "10\n",
      "[0, 15, 3, 2, 1]\n"
     ]
    }
   ],
   "source": [
    "class MaxHeap:\n",
    "    def __init__(self, items=[]):\n",
    "        super().__init__                        # instantiates __init__ as super class          \n",
    "        self.heap = [0]                         # if there is no input into the heap list then this ensure that the heap is always at value 0\n",
    "        for item in items:\n",
    "            self.heap.append(item)              # this adds the items one at a time to the end of the list\n",
    "            self.__floatUp(len(self.heap) - 1)  # this floats up the items to the proper position\n",
    "\n",
    "    def push(self, data):                       # push uses the same methods in the for loop above but instead only for a single new item\n",
    "        self.heap.append(data)                  \n",
    "        self.__floatUp(len(self.heap) - 1)\n",
    "\n",
    "    def peek(self):                             # this function returns the value at heap index 1\n",
    "        if self.heap[1]:\n",
    "            return self.heap[1]\n",
    "        else:\n",
    "            return False\n",
    "\n",
    "    def pop(self):\n",
    "        if len(self.heap) > 2:                  # this checks if the heap size is greater than 2 items\n",
    "            self.__swap(1, len(self.heap) - 1)  # this swaps the max value from heap index 1 to heap index n (end)\n",
    "            max = self.heap.pop()\n",
    "            self.__bubbleDown(1)                # this bubbles down the value at the top to the proper position\n",
    "        elif len(self.heap) == 2:               # if there is only 2 items in the heap then this pops the value at the top by default\n",
    "            max = self.heap.pop()\n",
    "        else:\n",
    "            max = False                         \n",
    "        return max\n",
    "\n",
    "    def __swap(self, i, j):\n",
    "        self.heap[i], self.heap[j] = self.heap[j], self.heap[i]\n",
    "\n",
    "    def __floatUp(self, index):\n",
    "        parent = index // 2                                 # This grabs the parent node value\n",
    "        if index <= 1:                                      # if the index value already is at heap index 1 then there is no floating up to do\n",
    "            return                                          # so we return\n",
    "        elif self.heap[index] > self.heap[parent]:          # this compares the heap item to its parent to see if its greater in value\n",
    "            self.__swap(index, parent)                      # this invokes the __swap function\n",
    "            self.__floatUp(parent)                          # this recursively floats up the value of the parent\n",
    "\n",
    "    def __bubbleDown(self, index):\n",
    "        left = index * 2\n",
    "        right = index * 2 + 1\n",
    "        largest = index\n",
    "        if len(self.heap) > left and self.heap[largest] < self.heap[left]:          # this compares the heap item with its left child value\n",
    "            largest = left\n",
    "        if len(self.heap) > right and self.heap[largest] < self.heap[left]:         # this compares the heap item with its right child value\n",
    "            largest = right\n",
    "        if largest != index:\n",
    "            self.__swap(index, largest)\n",
    "            self.__bubbleDown(largest)\n",
    "\n",
    "    def __str__(self):\n",
    "        return str(self.heap)\n",
    "\n",
    "\n",
    "# Test code:\n",
    "\n",
    "# sample 1:\n",
    "m = MaxHeap([95, 3, 2])\n",
    "m.push(10)\n",
    "print(m)\n",
    "print(m.pop())\n",
    "print(m.peek())\n",
    "\n",
    "# sample 2:\n",
    "temp = input(\"Numbers in here: \")\n",
    "custom_input = []\n",
    "for i in temp.split():\n",
    "    custom_input.append(int(i))\n",
    "\n",
    "another_m = MaxHeap(custom_input)\n",
    "another_m.push(15)\n",
    "print(another_m)"
   ]
  }
 ],
 "metadata": {
  "interpreter": {
   "hash": "b4cac7d35dbe03d49e1aefd665abd805980e34d3d5b5c1b05a95807b81a32df8"
  },
  "kernelspec": {
   "display_name": "Python 3.10.3 64-bit",
   "language": "python",
   "name": "python3"
  },
  "language_info": {
   "codemirror_mode": {
    "name": "ipython",
    "version": 3
   },
   "file_extension": ".py",
   "mimetype": "text/x-python",
   "name": "python",
   "nbconvert_exporter": "python",
   "pygments_lexer": "ipython3",
   "version": "3.10.3"
  },
  "orig_nbformat": 4
 },
 "nbformat": 4,
 "nbformat_minor": 2
}
