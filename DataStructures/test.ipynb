{
 "cells": [
  {
   "cell_type": "markdown",
   "metadata": {},
   "source": [
    "# Python Data Structures"
   ]
  },
  {
   "cell_type": "markdown",
   "metadata": {},
   "source": [
    "## String Manipulation\n",
    "\n",
    "slicing - slice out substrings, sublists, subtuples using indexes\n",
    "\n",
    "[start : end + 1 : step]"
   ]
  },
  {
   "cell_type": "code",
   "execution_count": 5,
   "metadata": {},
   "outputs": [
    {
     "name": "stdout",
     "output_type": "stream",
     "text": [
      "Demo of index slicing:\n",
      "omp\n",
      "opt\n",
      "puter\n",
      "compu\n",
      "r\n",
      "ter\n",
      "comput\n"
     ]
    }
   ],
   "source": [
    "print(\"Demo of index slicing:\")\n",
    "\n",
    "x = 'computer'\n",
    "print(x[1:4])\n",
    "print(x[1:6:2])\n",
    "print(x[3:])\n",
    "print(x[:5])\n",
    "print(x[-1])\n",
    "print(x[-3:])\n",
    "print(x[:-2])"
   ]
  },
  {
   "cell_type": "markdown",
   "metadata": {},
   "source": [
    "Slicing starts from the starting index and ends with the next index past your target. You can also add steps which tells python to skip over x indexes for every index iterated through."
   ]
  },
  {
   "cell_type": "markdown",
   "metadata": {},
   "source": [
    "adding and concatenating - combine 2 sequences of the same type by using +."
   ]
  },
  {
   "cell_type": "code",
   "execution_count": 9,
   "metadata": {},
   "outputs": [
    {
     "name": "stdout",
     "output_type": "stream",
     "text": [
      "horseshoe\n",
      "['pig', 'cow', 'horse']\n",
      "('Kevin', 'Niklas', 'Jenny', 'Craig')\n"
     ]
    }
   ],
   "source": [
    "# string\n",
    "x = 'horse' + 'shoe'\n",
    "print(x)\n",
    "\n",
    "# list\n",
    "y = ['pig', 'cow'] + ['horse']\n",
    "print(y)\n",
    "\n",
    "# tuple\n",
    "z = ('Kevin', 'Niklas', 'Jenny') + ('Craig',)\n",
    "print(z)\n"
   ]
  },
  {
   "cell_type": "markdown",
   "metadata": {},
   "source": [
    "for tuples, you must include the comma after the second tuple or tuple object for the interpreter to recognize that you want to concatenate both into one. failing to do so results in a Type Error."
   ]
  },
  {
   "cell_type": "markdown",
   "metadata": {},
   "source": [
    "### Collections"
   ]
  },
  {
   "cell_type": "markdown",
   "metadata": {},
   "source": [
    "checking membership - test whether an item is or is not in a sequence"
   ]
  },
  {
   "cell_type": "code",
   "execution_count": null,
   "metadata": {},
   "outputs": [],
   "source": [
    "# string\n",
    "x = 'bug'\n",
    "print('u' in x) # True\n",
    "\n",
    "# list\n",
    "y = ['pig', 'cow', 'horse']\n",
    "print('cow' not in y) # False\n",
    "\n",
    "# tuple\n",
    "z = ('Kevin', 'Niklas', 'Jenny', 'Craig')\n",
    "print('Niklas' in z) # True"
   ]
  },
  {
   "cell_type": "markdown",
   "metadata": {},
   "source": [
    "iterating - iterating through the items in a sequence"
   ]
  },
  {
   "cell_type": "code",
   "execution_count": null,
   "metadata": {},
   "outputs": [],
   "source": [
    "# item\n",
    "x = [7, 8, 3]\n",
    "for item in x:\n",
    "    print(item)\n",
    "\n",
    "# index and item\n",
    "y = [7, 8, 3]\n",
    "for index, item in enumerate(y):    # calling enumerate returns both the value and its index\n",
    "    print(index, item)"
   ]
  },
  {
   "cell_type": "markdown",
   "metadata": {},
   "source": [
    "minimum - find the minimum item in a sequence lexicographically. Alpha or numeric types, but cannot mix types."
   ]
  },
  {
   "cell_type": "code",
   "execution_count": 12,
   "metadata": {},
   "outputs": [
    {
     "name": "stdout",
     "output_type": "stream",
     "text": [
      "b\n",
      "cow\n",
      "Craig\n",
      "1\n"
     ]
    }
   ],
   "source": [
    "# string\n",
    "x = 'bug'\n",
    "print(min(x))\n",
    "\n",
    "# list\n",
    "y = ['pig', 'cow', 'horse']\n",
    "print(min(y))\n",
    "\n",
    "# tuple\n",
    "z = ('Kevin', 'Niklas', 'Jenny', 'Craig')\n",
    "print(min(z))\n",
    "\n",
    "# numeric\n",
    "yy = [3, 4, 1, 7, 8]\n",
    "print(min(yy))"
   ]
  },
  {
   "cell_type": "markdown",
   "metadata": {},
   "source": [
    "maximum - find the maximum item in a sequence lexicographically. Alpha or numeric types, but cannot mix types."
   ]
  },
  {
   "cell_type": "code",
   "execution_count": 13,
   "metadata": {},
   "outputs": [
    {
     "name": "stdout",
     "output_type": "stream",
     "text": [
      "u\n",
      "pig\n",
      "Niklas\n",
      "8\n"
     ]
    }
   ],
   "source": [
    "# string\n",
    "x = 'bug'\n",
    "print(max(x))\n",
    "\n",
    "# list\n",
    "y = ['pig', 'cow', 'horse']\n",
    "print(max(y))\n",
    "\n",
    "# tuple\n",
    "z = ('Kevin', 'Niklas', 'Jenny', 'Craig')\n",
    "print(max(z))\n",
    "\n",
    "# numeric\n",
    "yy = [3, 4, 1, 7, 8]\n",
    "print(max(yy))"
   ]
  },
  {
   "cell_type": "markdown",
   "metadata": {},
   "source": [
    "sum - find the sum of items in a sequence. Entire sequence must by numeric."
   ]
  },
  {
   "cell_type": "code",
   "execution_count": 14,
   "metadata": {},
   "outputs": [
    {
     "name": "stdout",
     "output_type": "stream",
     "text": [
      "27\n",
      "20\n",
      "80\n"
     ]
    }
   ],
   "source": [
    "# string -> error\n",
    "# x = [5, 7, 'bug']\n",
    "# print(sum(x)) # generates an error\n",
    "\n",
    "#list\n",
    "y = [2, 5, 8, 12]\n",
    "print(sum(y))\n",
    "print(sum(y[-2:])) # getting the sum of a sliced list - sum of part of the list\n",
    "\n",
    "# tuple\n",
    "z = (50, 4, 7, 19)\n",
    "print(sum(z))\n"
   ]
  },
  {
   "cell_type": "markdown",
   "metadata": {},
   "source": [
    "### Sorting methods"
   ]
  },
  {
   "cell_type": "markdown",
   "metadata": {},
   "source": [
    "basic sorting - returns a new list of items in sorted order.\n",
    "Does not change the original list."
   ]
  },
  {
   "cell_type": "code",
   "execution_count": 15,
   "metadata": {},
   "outputs": [
    {
     "name": "stdout",
     "output_type": "stream",
     "text": [
      "['b', 'g', 'u']\n",
      "['cow', 'horse', 'pig']\n",
      "['Craig', 'Jenny', 'Kevin', 'Niklas']\n",
      "[1, 3, 4, 7, 8]\n"
     ]
    }
   ],
   "source": [
    "# string\n",
    "x = 'bug'\n",
    "print(sorted(x))\n",
    "\n",
    "# list\n",
    "y = ['pig', 'cow', 'horse']\n",
    "print(sorted(y))\n",
    "\n",
    "# tuple\n",
    "z = ('Kevin', 'Niklas', 'Jenny', 'Craig')\n",
    "print(sorted(z))\n",
    "\n",
    "# numeric\n",
    "yy = [3, 4, 1, 7, 8]\n",
    "print(sorted(yy))"
   ]
  },
  {
   "cell_type": "markdown",
   "metadata": {},
   "source": [
    "sorting by second letter.\n",
    "Add a key parameter and a lambda function to return the second character.\n",
    "(the word 'key' here is a defined parameter name, k is an arbitrary variable name)"
   ]
  },
  {
   "cell_type": "code",
   "execution_count": 16,
   "metadata": {},
   "outputs": [
    {
     "name": "stdout",
     "output_type": "stream",
     "text": [
      "['Kevin', 'Jenny', 'Niklas', 'Craig']\n"
     ]
    }
   ],
   "source": [
    "z = ('Kevin', 'Niklas', 'Jenny', 'Craig')\n",
    "print(sorted(z, key=lambda k: k[1]))"
   ]
  },
  {
   "cell_type": "markdown",
   "metadata": {},
   "source": [
    "count of item"
   ]
  },
  {
   "cell_type": "code",
   "execution_count": 18,
   "metadata": {},
   "outputs": [
    {
     "name": "stdout",
     "output_type": "stream",
     "text": [
      "0\n",
      "2\n",
      "1\n",
      "1\n"
     ]
    }
   ],
   "source": [
    "# string\n",
    "x = 'bug'\n",
    "print(x.count('p'))\n",
    "\n",
    "# list\n",
    "y = ['pig', 'cow', 'horse', 'cow']\n",
    "print(y.count('cow'))\n",
    "\n",
    "# tuple\n",
    "z = ('Kevin', 'Niklas', 'Jenny', 'Craig')\n",
    "print(z.count('Kevin'))\n",
    "\n",
    "# numeric\n",
    "yy = [3, 4, 1, 7, 8]\n",
    "print(yy.count(7))"
   ]
  },
  {
   "cell_type": "markdown",
   "metadata": {},
   "source": [
    "index of item - returns the first occurance of an item"
   ]
  },
  {
   "cell_type": "code",
   "execution_count": 22,
   "metadata": {},
   "outputs": [
    {
     "name": "stdout",
     "output_type": "stream",
     "text": [
      "2\n",
      "2\n",
      "1\n",
      "0\n",
      "3\n"
     ]
    }
   ],
   "source": [
    "# string\n",
    "x = 'hippo'\n",
    "print(x.index('p'))\n",
    "print(x.index('p'))\n",
    "\n",
    "# list\n",
    "y = ['pig', 'cow', 'horse', 'cow']\n",
    "print(y.index('cow'))\n",
    "\n",
    "# tuple\n",
    "z = ('Kevin', 'Niklas', 'Jenny', 'Craig')\n",
    "print(z.index('Kevin'))\n",
    "\n",
    "# numeric\n",
    "yy = [3, 4, 1, 7, 8]\n",
    "print(yy.index(7))"
   ]
  },
  {
   "cell_type": "markdown",
   "metadata": {},
   "source": [
    "## Collections in Detail"
   ]
  },
  {
   "cell_type": "markdown",
   "metadata": {},
   "source": [
    "### Lists"
   ]
  },
  {
   "cell_type": "markdown",
   "metadata": {},
   "source": [
    "- General purpose\n",
    "- Most widely used data structure\n",
    "- Grow and shrink size as needed\n",
    "- Sequence type\n",
    "- Sortable (very useful for sorting)\n",
    "\n",
    "constructors - creating a new list"
   ]
  },
  {
   "cell_type": "code",
   "execution_count": 5,
   "metadata": {},
   "outputs": [
    {
     "name": "stdout",
     "output_type": "stream",
     "text": [
      "[]\n",
      "['a', 25, 'dog', 8.43]\n",
      "[10, 20]\n",
      "[0, 1, 2, 3, 4, 5, 6, 7]\n",
      "[25, 36, 49, 64, 81]\n"
     ]
    }
   ],
   "source": [
    "x = list()\n",
    "y = ['a', 25, 'dog', 8.43]\n",
    "tuple1 = (10, 20)\n",
    "z = list(tuple1) # this creates a copy of tuple1 in list form\n",
    "print(x)\n",
    "print(y)\n",
    "print(z)\n",
    "\n",
    "# list comprehension\n",
    "a = [m for m in range(8)]\n",
    "print(a)\n",
    "b = [i**2 for i in range(10) if i>4]\n",
    "print(b)"
   ]
  },
  {
   "cell_type": "markdown",
   "metadata": {},
   "source": [
    "delete - delete a list or an item in a list"
   ]
  },
  {
   "cell_type": "code",
   "execution_count": 6,
   "metadata": {},
   "outputs": [
    {
     "name": "stdout",
     "output_type": "stream",
     "text": [
      "[5, 8, 6]\n"
     ]
    }
   ],
   "source": [
    "x = [5, 3, 8, 6]\n",
    "del(x[1])\n",
    "print(x)\n",
    "del(x)"
   ]
  },
  {
   "cell_type": "markdown",
   "metadata": {},
   "source": [
    "append - append an item to a list"
   ]
  },
  {
   "cell_type": "code",
   "execution_count": 7,
   "metadata": {},
   "outputs": [
    {
     "name": "stdout",
     "output_type": "stream",
     "text": [
      "[5, 3, 8, 6, 7]\n"
     ]
    }
   ],
   "source": [
    "x = [5, 3, 8, 6]\n",
    "x.append(7)\n",
    "print(x)"
   ]
  },
  {
   "cell_type": "markdown",
   "metadata": {},
   "source": [
    "extend - append a sequence to a list. useful for adding another list to a list without making it 2D. <br>Similar to concatenation"
   ]
  },
  {
   "cell_type": "code",
   "execution_count": 20,
   "metadata": {},
   "outputs": [
    {
     "name": "stdout",
     "output_type": "stream",
     "text": [
      "Extend vs append comparison:\n",
      "x extend y: [5, 3, 8, 6, 12, 13]\n",
      "x append y: [5, 3, 8, 6, [12, 13]]\n"
     ]
    }
   ],
   "source": [
    "x = [5, 3, 8, 6]\n",
    "y = [12, 13]\n",
    "\n",
    "print(\"Extend vs append comparison:\")\n",
    "x.extend(y)\n",
    "print(f\"x extend y: {x}\")\n",
    "\n",
    "del(x[-2:]) # undoes the extend function that was passed\n",
    "\n",
    "x.append(y)\n",
    "print(f\"x append y: {x}\")"
   ]
  },
  {
   "cell_type": "markdown",
   "metadata": {},
   "source": [
    "insert - insert an item at a given index"
   ]
  },
  {
   "cell_type": "code",
   "execution_count": 21,
   "metadata": {},
   "outputs": [
    {
     "name": "stdout",
     "output_type": "stream",
     "text": [
      "[5, 7, 3, 8, 6]\n",
      "[5, ['a', 'm'], 7, 3, 8, 6]\n"
     ]
    }
   ],
   "source": [
    "x = [5, 3, 8, 6]\n",
    "x.insert(1, 7)\n",
    "print(x)\n",
    "x.insert(1, ['a', 'm'])     # inserting ['a', 'm'] at index 1\n",
    "print(x)"
   ]
  },
  {
   "cell_type": "markdown",
   "metadata": {},
   "source": [
    "pop - pops last item off the list and returns item"
   ]
  },
  {
   "cell_type": "code",
   "execution_count": 23,
   "metadata": {},
   "outputs": [
    {
     "name": "stdout",
     "output_type": "stream",
     "text": [
      "[5, 3, 8]\n",
      "8\n"
     ]
    }
   ],
   "source": [
    "x = [5, 3, 8, 6]\n",
    "x.pop()\n",
    "print(x)        # returns list with popped 6\n",
    "print(x.pop())  # returns the popped item, which is 8"
   ]
  },
  {
   "cell_type": "markdown",
   "metadata": {},
   "source": [
    "remove - remove the first instance of an item"
   ]
  },
  {
   "cell_type": "code",
   "execution_count": 24,
   "metadata": {},
   "outputs": [
    {
     "name": "stdout",
     "output_type": "stream",
     "text": [
      "[5, 8, 6, 3]\n"
     ]
    }
   ],
   "source": [
    "x = [5, 3, 8, 6, 3]\n",
    "x.remove(3)\n",
    "print(x)"
   ]
  },
  {
   "cell_type": "markdown",
   "metadata": {},
   "source": [
    "reverse - reverse the order of the list. it is an in-place sort and changes the original list."
   ]
  },
  {
   "cell_type": "code",
   "execution_count": 25,
   "metadata": {},
   "outputs": [
    {
     "name": "stdout",
     "output_type": "stream",
     "text": [
      "[6, 8, 3, 5]\n"
     ]
    }
   ],
   "source": [
    "x = [5, 3, 8, 6]\n",
    "x.reverse()\n",
    "print(x)"
   ]
  },
  {
   "cell_type": "markdown",
   "metadata": {},
   "source": [
    "sort - sort the list in place\n",
    "\n",
    "sorted(x) returns new sorted list without changing the original list x. <br>\n",
    "x.sort() puts the items of x in sorted order(sorts in place)"
   ]
  },
  {
   "cell_type": "code",
   "execution_count": 29,
   "metadata": {},
   "outputs": [
    {
     "name": "stdout",
     "output_type": "stream",
     "text": [
      "[3, 5, 6, 8]\n"
     ]
    },
    {
     "data": {
      "text/plain": [
       "[3, 5, 6, 8]"
      ]
     },
     "execution_count": 29,
     "metadata": {},
     "output_type": "execute_result"
    }
   ],
   "source": [
    "x = [5, 3, 8, 6]\n",
    "x.sort()\n",
    "print(x)\n",
    "\n",
    "# sorted does the same thing\n",
    "x = [5, 3, 8, 6] \n",
    "sorted(x)"
   ]
  },
  {
   "cell_type": "markdown",
   "metadata": {},
   "source": [
    "### Tuples"
   ]
  },
  {
   "cell_type": "markdown",
   "metadata": {},
   "source": [
    "- immutable (can't add/change)\n",
    "- Useful for fixed data\n",
    "- Faster than lists\n",
    "- Sequence type\n",
    "\n",
    "constructors - creating new tuples"
   ]
  },
  {
   "cell_type": "code",
   "execution_count": 32,
   "metadata": {},
   "outputs": [
    {
     "name": "stdout",
     "output_type": "stream",
     "text": [
      "(2,) <class 'tuple'>\n",
      "(2, 4, 6) <class 'tuple'>\n"
     ]
    }
   ],
   "source": [
    "# different constructors for tuples\n",
    "x = ()\n",
    "x = (1, 2, 3)\n",
    "x = 1, 2, 3\n",
    "x = 2,\n",
    "print(x, type(x))\n",
    "\n",
    "# converting a list into a tuple\n",
    "list1 = [2, 4, 6]\n",
    "x = tuple(list1)\n",
    "print(x, type(x))"
   ]
  },
  {
   "cell_type": "markdown",
   "metadata": {},
   "source": [
    "tuples are immutable, but member objects may be mutable"
   ]
  },
  {
   "cell_type": "code",
   "execution_count": 33,
   "metadata": {},
   "outputs": [
    {
     "name": "stdout",
     "output_type": "stream",
     "text": [
      "(1, 2, 3)\n",
      "([1], 3)\n",
      "([1], 3, 4)\n"
     ]
    }
   ],
   "source": [
    "x = (1, 2, 3)\n",
    "# del(x[1])         # fails\n",
    "# x[1] = 8          # fails\n",
    "print(x)\n",
    "\n",
    "y = ([1, 2], 3)     # a tuple where the first item is a list\n",
    "del(y[0][1])        # you can delete the 2\n",
    "print(y)            # the list within the tuple is mutable\n",
    "\n",
    "y += (4,)           # concatenating two tuples \n",
    "print(y)"
   ]
  },
  {
   "cell_type": "markdown",
   "metadata": {},
   "source": [
    "### Sets"
   ]
  },
  {
   "cell_type": "markdown",
   "metadata": {},
   "source": [
    "- Store non-duplicate items\n",
    "- Very fast access vs Lists\n",
    "- Math Set operations (union, intersect)\n",
    "- Sets are Unordered"
   ]
  },
  {
   "cell_type": "code",
   "execution_count": 34,
   "metadata": {},
   "outputs": [
    {
     "name": "stdout",
     "output_type": "stream",
     "text": [
      "{3, 5}\n",
      "set()\n",
      "{2, 3, 4}\n"
     ]
    }
   ],
   "source": [
    "# Set Constructors\n",
    "\n",
    "x = {3, 5, 3, 5}\n",
    "print(x)\n",
    "\n",
    "y = set()\n",
    "print(y)\n",
    "\n",
    "list1 = [2, 3, 4]\n",
    "z = set(list1)\n",
    "print(z)"
   ]
  },
  {
   "cell_type": "markdown",
   "metadata": {},
   "source": [
    "set operations"
   ]
  },
  {
   "cell_type": "code",
   "execution_count": 36,
   "metadata": {},
   "outputs": [
    {
     "name": "stdout",
     "output_type": "stream",
     "text": [
      "{8, 3, 5}\n",
      "{8, 3, 5, 7}\n",
      "{8, 5, 7}\n",
      "3\n",
      "True\n",
      "8 {5, 7}\n",
      "set()\n"
     ]
    }
   ],
   "source": [
    "x = {3, 8, 5}\n",
    "\n",
    "\n",
    "print(x)\n",
    "x.add(7)                # adding an item to a set\n",
    "print(x)\n",
    "\n",
    "x.remove(3)             # removing an item from a set\n",
    "print(x)\n",
    "\n",
    "print(len(x))           # get length of set x\n",
    "\n",
    "print(5 in x)           # check membership in x\n",
    "\n",
    "print(x.pop(), x)       # pop random item from set x\n",
    "\n",
    "x.clear()               # delete all items from set x\n",
    "print(x)"
   ]
  },
  {
   "cell_type": "markdown",
   "metadata": {},
   "source": [
    "<b> Mathematical set operations </b>                    <br>\n",
    "intersection (AND): set1 & set2                         <br>\n",
    "union (OR): set1 | set1                                 <br>\n",
    "symmetric difference (XOR): set1 ^ set2                 <br>\n",
    "difference (in set1 but not in set2): set1 - set2       <br>\n",
    "subset (set2 contains set1): set1 <= set2               <br>\n",
    "superset (set1 contains set2): set1 >= set2\n"
   ]
  },
  {
   "cell_type": "code",
   "execution_count": 37,
   "metadata": {},
   "outputs": [
    {
     "name": "stdout",
     "output_type": "stream",
     "text": [
      "{3}\n",
      "{1, 2, 3, 4, 5}\n",
      "{1, 2, 4, 5}\n",
      "{1, 2}\n",
      "False\n",
      "False\n"
     ]
    }
   ],
   "source": [
    "s1 = {1, 2, 3}\n",
    "s2 = {3, 4, 5}\n",
    "print(s1 & s2)          # AND\n",
    "print(s1 | s2)          # UNION/OR\n",
    "print(s1 ^ s2)          # XOR\n",
    "print(s1 - s2)          # \n",
    "print(s1 <= s2)         #\n",
    "print(s1 >= s2)         #"
   ]
  },
  {
   "cell_type": "markdown",
   "metadata": {},
   "source": [
    "### Dictionaries"
   ]
  },
  {
   "cell_type": "markdown",
   "metadata": {},
   "source": [
    "- Key/Value Pairs\n",
    "- Associative array, like Java HashMap\n",
    "- Dicts are Unordered"
   ]
  },
  {
   "cell_type": "code",
   "execution_count": 4,
   "metadata": {},
   "outputs": [
    {
     "name": "stdout",
     "output_type": "stream",
     "text": [
      "\n",
      "dictionary constructors:\n",
      "\n",
      "{'pork': 25.3, 'beef': 33.8, 'chicken': 22.7}\n",
      "{'pork': 25.3, 'beef': 33.8, 'chicken': 22.7}\n",
      "{'pork': 25.3, 'beef': 33.8, 'chicken': 22.7}\n",
      "\n",
      "dictionary operations:\n",
      "\n",
      "{'pork': 25.3, 'beef': 33.8, 'chicken': 22.7, 'shrimp': 38.2, 'lobster': 100.8}\n",
      "{'pork': 25.3, 'beef': 33.8, 'chicken': 22.7, 'lobster': 100.8}\n",
      "4\n",
      "{}\n"
     ]
    }
   ],
   "source": [
    "# constructors of dictionaries\n",
    "print(\"\\ndictionary constructors:\\n\")\n",
    "\n",
    "x = {'pork': 25.3, 'beef': 33.8, 'chicken': 22.7}\n",
    "print(x)\n",
    "x = dict([('pork', 25.3), ('beef', 33.8), ('chicken', 22.7)])\n",
    "print(x)\n",
    "x = dict(pork=25.3, beef=33.8, chicken=22.7)\n",
    "print(x)\n",
    "\n",
    "\n",
    "print(\"\\ndictionary operations:\\n\")\n",
    "\n",
    "\n",
    "x['shrimp'] = 38.2          # adds or updates the dictionary of x\n",
    "x['lobster'] = 100.8\n",
    "print(x)\n",
    "\n",
    "del(x['shrimp'])            # deletes an item\n",
    "print(x)\n",
    "\n",
    "print(len(x))               # get length of dict x\n",
    "\n",
    "x.clear()                   # delete all items from dict x\n",
    "print(x)\n",
    "\n",
    "del(x)                      # delete dict x - this frees up the memory allocated to this dict"
   ]
  },
  {
   "cell_type": "code",
   "execution_count": 6,
   "metadata": {},
   "outputs": [
    {
     "name": "stdout",
     "output_type": "stream",
     "text": [
      "\n",
      "accessing keys and values in a dict:\n",
      "Not compatible in Python 2\n",
      "\n",
      "dict_keys(['pork', 'beef', 'chicken'])\n",
      "dict_values([25.3, 33.8, 22.7])\n",
      "dict_items([('pork', 25.3), ('beef', 33.8), ('chicken', 22.7)])\n",
      "True\n",
      "False\n"
     ]
    }
   ],
   "source": [
    "print(\"\\naccessing keys and values in a dict:\\nNot compatible in Python 2\\n\")\n",
    "\n",
    "x = dict(pork=25.3, beef=33.8, chicken=22.7)\n",
    "\n",
    "print(x.keys())\n",
    "print(x.values())\n",
    "print(x.items())            # key-value pairs\n",
    "\n",
    "print('beef' in x)          # check membership in y_keys (only looks in keys, not values)\n",
    "\n",
    "print('clams' in x.values())# check membership in y_values"
   ]
  },
  {
   "cell_type": "markdown",
   "metadata": {},
   "source": [
    "iterating a dictionary"
   ]
  },
  {
   "cell_type": "code",
   "execution_count": 8,
   "metadata": {},
   "outputs": [
    {
     "name": "stdout",
     "output_type": "stream",
     "text": [
      "pork 25.3\n",
      "beef 33.8\n",
      "chicken 22.7\n",
      "pork 25.3\n",
      "beef 33.8\n",
      "chicken 22.7\n"
     ]
    }
   ],
   "source": [
    "y = dict(pork=25.3, beef=33.8, chicken=22.7)\n",
    "\n",
    "for key in y:\n",
    "    print(key, y[key])\n",
    "\n",
    "for k, v in y.items():   # using this method y.items() returns a tuple of the key and value and assigns them to their repected variable\n",
    "    print(k, v)"
   ]
  },
  {
   "cell_type": "markdown",
   "metadata": {},
   "source": [
    "## List Comprehensions"
   ]
  },
  {
   "cell_type": "markdown",
   "metadata": {},
   "source": [
    "List comprehensions can be done using a for loop inside of a list constructor. <br><br>\n",
    "\n",
    "basic format: new_list = [transform sequence [filter]]"
   ]
  },
  {
   "cell_type": "code",
   "execution_count": 26,
   "metadata": {},
   "outputs": [
    {
     "name": "stdout",
     "output_type": "stream",
     "text": [
      "under_10: [0, 1, 2, 3, 4, 5, 6, 7, 8, 9]\n",
      "squares: [0, 1, 4, 9, 16, 25, 36, 49, 64, 81]\n",
      "odds: [1, 3, 5, 7, 9]\n",
      "ten_x: [0, 10, 20, 30, 40, 50, 60, 70, 80, 90]\n",
      "nums: 2073\n",
      "index = 2\n",
      "['D', 'F', 'B', 'E', 'A', 'C'] ['D', 'F', 'B', 'E', 'A']\n",
      "new_list: [50, 30, 10, 18, 6, 70]\n",
      "[1, 2, 3, 4]\n"
     ]
    }
   ],
   "source": [
    "import random\n",
    "\n",
    "# get values within a range\n",
    "\n",
    "under_10 = [x for x in range(10)]\n",
    "print(f\"under_10: {str(under_10)}\")         \n",
    "\n",
    "# get squared values\n",
    "squares = [x ** 2 for x in under_10]\n",
    "print(f\"squares: {str(squares)}\")\n",
    "\n",
    "# get odd numbers using mod\n",
    "odds = [x for x in range(10) if x % 2 == 1]\n",
    "print(f\"odds: {str(odds)}\")\n",
    "\n",
    "# get multiples of 10\n",
    "ten_x = [x * 10 for x in range(10)]\n",
    "print(f\"ten_x: {str(ten_x)}\")\n",
    "\n",
    "#  get all numbers from a string\n",
    "s = \"I love 2 go t0 the store 7 times a w3ek.\"\n",
    "nums = [x for x in s if x.isnumeric()]\n",
    "print(f\"nums: {''.join(nums)}\")\n",
    "\n",
    "# get index of a list item\n",
    "    # recall that sets and dicts are hashed and easier to find a given index\n",
    "    # list comprehensions are great for finding certain indexes of lists\n",
    "names = ['Cosmo', 'Pedro', 'Anu', 'Ray']\n",
    "idx = [k for k, v in enumerate(names) if v == 'Anu']    # given the for loop k = 2\n",
    "print(f\"index = {str(idx[0])}\")\n",
    "\n",
    "# delete an item from a list\n",
    "letters = [x for x in 'ABCDEF']\n",
    "random.shuffle(letters)\n",
    "letrs = [a for a in letters if a != 'C']\n",
    "print(letters, letrs)\n",
    "\n",
    "# if-else condition in a comprehension\n",
    "    # this must come before iteration\n",
    "nums = [5, 3, 10, 18, 6, 7]\n",
    "new_list = [x if x%2 == 0 else 10*x for x in nums]\n",
    "print(f\"new_list: {str(new_list)}\")\n",
    "\n",
    "# nested loop iteration for 2D list\n",
    "    # b is the subsets, x is the values\n",
    "a = [[1, 2],[3, 4]]\n",
    "new_list = [x for b in a for x in b]\n",
    "print(new_list)\n"
   ]
  }
 ],
 "metadata": {
  "interpreter": {
   "hash": "b4cac7d35dbe03d49e1aefd665abd805980e34d3d5b5c1b05a95807b81a32df8"
  },
  "kernelspec": {
   "display_name": "Python 3.10.3 64-bit",
   "language": "python",
   "name": "python3"
  },
  "language_info": {
   "codemirror_mode": {
    "name": "ipython",
    "version": 3
   },
   "file_extension": ".py",
   "mimetype": "text/x-python",
   "name": "python",
   "nbconvert_exporter": "python",
   "pygments_lexer": "ipython3",
   "version": "3.10.3"
  },
  "orig_nbformat": 4
 },
 "nbformat": 4,
 "nbformat_minor": 2
}
